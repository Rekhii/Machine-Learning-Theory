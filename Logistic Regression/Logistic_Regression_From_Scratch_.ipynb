{
  "nbformat": 4,
  "nbformat_minor": 0,
  "metadata": {
    "colab": {
      "provenance": []
    },
    "kernelspec": {
      "name": "python3",
      "display_name": "Python 3"
    },
    "language_info": {
      "name": "python"
    }
  },
  "cells": [
    {
      "cell_type": "markdown",
      "source": [
        "## Imports"
      ],
      "metadata": {
        "id": "1sZXRFl7ju46"
      }
    },
    {
      "cell_type": "code",
      "source": [
        "import numpy as np\n",
        "import matplotlib.pyplot as plt\n"
      ],
      "metadata": {
        "id": "1apA25qLjxDw"
      },
      "execution_count": 31,
      "outputs": []
    },
    {
      "cell_type": "markdown",
      "source": [
        "##  synthetic data"
      ],
      "metadata": {
        "id": "OXE4mT7Yebje"
      }
    },
    {
      "cell_type": "code",
      "execution_count": 32,
      "metadata": {
        "colab": {
          "base_uri": "https://localhost:8080/"
        },
        "id": "z0U_AVlIYoia",
        "outputId": "a7b4ad90-f944-4cdd-e3e9-8cfe94039919"
      },
      "outputs": [
        {
          "output_type": "execute_result",
          "data": {
            "text/plain": [
              "((800, 2), np.float64(0.545), (array([-1.12318217, -1.65482985]), 0.2))"
            ]
          },
          "metadata": {},
          "execution_count": 32
        }
      ],
      "source": [
        "rng = np.random.default_rng(42)\n",
        "\n",
        "def sigmoid(z):\n",
        "    return 1.0 / (1.0 + np.exp(-z))\n",
        "\n",
        "def make_logreg_data(n=800, d=2, sep=1.5, bias=0.0):\n",
        "    \"\"\"\n",
        "    n:   number of samples\n",
        "    d:   number of features\n",
        "    sep: controls separability (scale of true weights). Larger -> easier.\n",
        "    bias: ground-truth bias (b*)\n",
        "    \"\"\"\n",
        "    X = rng.normal(loc=0.0, scale=1.0, size=(n, d))\n",
        "\n",
        "    # ground-truth parameters\n",
        "    w_true = rng.normal(size=d)\n",
        "    w_true = sep * w_true / (np.linalg.norm(w_true) + 1e-12)   # normalize then scale\n",
        "    b_true = float(bias)\n",
        "\n",
        "    logits = X @ w_true + b_true\n",
        "    p = sigmoid(logits)\n",
        "    y = (rng.random(n) < p).astype(int)\n",
        "    return X, y, w_true, b_true\n",
        "\n",
        "# example: easy-ish 2D dataset\n",
        "X, y, w_star, b_star = make_logreg_data(n=1000, d=2, sep=2.0, bias=0.2)\n",
        "\n",
        "# simple train/val split\n",
        "idx = rng.permutation(len(X))\n",
        "train_size = int(0.8 * len(X))\n",
        "train_idx, val_idx = idx[:train_size], idx[train_size:]\n",
        "\n",
        "X_train, y_train = X[train_idx], y[train_idx]\n",
        "X_val,   y_val   = X[val_idx],   y[val_idx]\n",
        "\n",
        "X_train.shape, y_train.mean(), (w_star, b_star)\n"
      ]
    },
    {
      "cell_type": "markdown",
      "source": [
        "##  Demonstration: Why the Stable Sigmoid Matters\n",
        "\n",
        "---\n",
        "\n",
        "### Goal\n",
        "\n",
        "Visualize how the **unstable sigmoid** (standard formula) breaks\n",
        "for large values of \\( z \\), and how the **stable sigmoid** fixes it.\n",
        "\n",
        "---\n",
        "\n",
        "### Recall the Two Forms\n",
        "\n",
        "### Unstable (Standard):\n",
        "$$\n",
        "\\sigma(z) = \\frac{1}{1 + e^{-z}}\n",
        "$$\n",
        "\n",
        "### Stable (Piecewise):\n",
        "$$\n",
        "\\sigma(z) =\n",
        "\\begin{cases}\n",
        "\\dfrac{1}{1 + e^{-z}}, & z \\ge 0 \\\\[6pt]\n",
        "\\dfrac{e^{z}}{1 + e^{z}}, & z < 0\n",
        "\\end{cases}\n",
        "$$\n"
      ],
      "metadata": {
        "id": "9GTfJY9TkMUe"
      }
    },
    {
      "cell_type": "code",
      "source": [
        "import numpy as np\n",
        "import matplotlib.pyplot as plt\n",
        "\n",
        "# Unstable sigmoid (normal formula)\n",
        "def sigmoid_unstable(z):\n",
        "    return 1 / (1 + np.exp(-z))\n",
        "\n",
        "# Stable sigmoid (piecewise safe)\n",
        "def sigmoid_stable(z):\n",
        "    out = np.empty_like(z, dtype=float)\n",
        "    pos = z >= 0\n",
        "    neg = ~pos\n",
        "    out[pos] = 1.0 / (1.0 + np.exp(-z[pos]))\n",
        "    ez = np.exp(z[neg])\n",
        "    out[neg] = ez / (1.0 + ez)\n",
        "    return out\n",
        "\n",
        "# Create z ranges\n",
        "z_stable = np.linspace(-100, 100, 1000)   # covers full range safely\n",
        "z_unstable = np.linspace(-20, 20, 400)    # only where it won't overflow\n",
        "\n",
        "# Compute both\n",
        "sig_stable = sigmoid_stable(z_stable)\n",
        "sig_unstable = sigmoid_unstable(z_unstable)\n",
        "\n",
        "# Plot\n",
        "plt.figure(figsize=(8,5))\n",
        "plt.plot(z_stable, sig_stable, color='blue', label='Stable Sigmoid (Safe for ±100)')\n",
        "plt.plot(z_unstable, sig_unstable, 'r--', linewidth=2, label='Unstable Sigmoid (±20 range)')\n",
        "plt.title(\"Stable vs Unstable Sigmoid Function\")\n",
        "plt.xlabel(\"z\")\n",
        "plt.ylabel(\"σ(z)\")\n",
        "plt.legend()\n",
        "plt.grid(True)\n",
        "plt.show()\n"
      ],
      "metadata": {
        "colab": {
          "base_uri": "https://localhost:8080/",
          "height": 487
        },
        "id": "hBx37KFtjnKN",
        "outputId": "ab99c4ff-5c8d-43e8-f2e7-0f1a3ab0f94b"
      },
      "execution_count": 33,
      "outputs": [
        {
          "output_type": "display_data",
          "data": {
            "text/plain": [
              "<Figure size 800x500 with 1 Axes>"
            ],
            "image/png": "[encoded data removed]"
          },
          "metadata": {}
        }
      ]
    },
    {
      "cell_type": "markdown",
      "source": [
        "\n",
        "Both are mathematically identical — but behave differently numerically.\n",
        "\n",
        "**Conclusion:**  \n",
        "Using the *stable sigmoid* ensures our logistic regression stays numerically safe for any input range —  \n",
        "that’s why modern ML implementations (like PyTorch, TensorFlow, NumPy) internally use this piecewise stable form."
      ],
      "metadata": {
        "id": "e6k0rhsrkfLV"
      }
    },
    {
      "cell_type": "code",
      "source": [],
      "metadata": {
        "id": "74R4l6duj3wm"
      },
      "execution_count": 33,
      "outputs": []
    },
    {
      "cell_type": "markdown",
      "source": [
        "##Sigmoid Function (σ) — Stable Mathematical Explanation\n",
        "\n",
        "---\n",
        "\n",
        "###  Definition\n",
        "\n",
        "The **sigmoid (logistic)** function converts any real number \\( z \\) into a probability range (0, 1):\n",
        "\n",
        "$$\n",
        "\\sigma(z) = \\frac{1}{1 + e^{-z}}\n",
        "$$\n",
        "\n",
        "It maps the linear model output \\( z = w^\\top x + b \\)\n",
        "into a probability that \\( y = 1 \\).\n",
        "\n",
        "---\n",
        "\n",
        "###  Numerical Stability Problem\n",
        "\n",
        "- When \\( z \\) is **very large positive** → \\( e^{-z} \\approx 0 \\) → safe   \n",
        "- When \\( z \\) is **very large negative** → \\( e^{-z} = e^{|z|} \\) → huge number  → overflow.\n",
        "\n",
        "Example:\n",
        "\n",
        "$$\n",
        "e^{1000} \\approx 10^{434} \\quad \\text{→ overflow in floating-point.}\n",
        "$$\n",
        "\n",
        "To fix this, we use a **piecewise formula** that handles both cases safely.\n",
        "\n",
        "---\n",
        "\n",
        "### Stable Piecewise Formula\n",
        "\n",
        "$$\n",
        "\\sigma(z) =\n",
        "\\begin{cases}\n",
        "\\dfrac{1}{1 + e^{-z}}, & z \\ge 0 \\\\[8pt]\n",
        "\\dfrac{e^{z}}{1 + e^{z}}, & z < 0\n",
        "\\end{cases}\n",
        "$$\n",
        "\n",
        "Both forms are mathematically identical:\n",
        "\n",
        "$$\n",
        "\\frac{1}{1 + e^{-z}} = \\frac{e^{z}}{1 + e^{z}}\n",
        "$$\n",
        "\n",
        "but the second version avoids computing \\( e^{-z} \\) for large negative \\( z \\).\n",
        "\n",
        "---\n",
        "\n",
        "### Corresponding Code\n"
      ],
      "metadata": {
        "id": "XTO7_wbsjEW7"
      }
    },
    {
      "cell_type": "code",
      "source": [
        "def sigmoid_stable(z):\n",
        "\n",
        "  z = np.asarray(z,dtype=float)\n",
        "  out = np.empty_like(z)\n",
        "\n",
        "  pos = z>=0\n",
        "  neg = ~pos\n",
        "\n",
        "  # now to handle overflow state like if the +ve number is very large and same goes for -ve number we need to handle that one to\n",
        "  out[pos] = 1.0 / (1.0 + np.exp(-z[pos]))\n",
        "  ez = np.exp(z[neg])\n",
        "  out[neg] = ez / (1.0 + ez)\n",
        "  return out\n",
        "\n"
      ],
      "metadata": {
        "id": "CY2zED9KePxU"
      },
      "execution_count": 34,
      "outputs": []
    },
    {
      "cell_type": "code",
      "source": [
        "def logits(X, w, b):\n",
        "    \"\"\"Linear score z = X @ w + b\"\"\"\n",
        "    return X @ w + b"
      ],
      "metadata": {
        "id": "aqhIosFviDFe"
      },
      "execution_count": 35,
      "outputs": []
    },
    {
      "cell_type": "markdown",
      "source": [
        "##  Binary Cross-Entropy (Log Loss)"
      ],
      "metadata": {
        "id": "xk7VPOWdk5Gk"
      }
    },
    {
      "cell_type": "markdown",
      "source": [
        "##  For a Single Sample\n",
        "\n",
        "The loss for one training example with label \\( y \\in \\{0,1\\} \\)\n",
        "and predicted probability \\( \\hat{p} = \\sigma(z) = \\frac{1}{1 + e^{-z}} \\) is:\n",
        "\n",
        "$$\n",
        "L(y, \\hat{p}) = -\\Big[\\, y \\log(\\hat{p}) + (1 - y) \\log(1 - \\hat{p}) \\,\\Big]\n",
        "$$\n",
        "\n",
        "---\n",
        "\n",
        "### For the Entire Dataset of \\( n \\) Samples\n",
        "\n",
        "Averaging the loss over all samples gives:\n",
        "\n",
        "$$\n",
        "J(w, b) = -\\frac{1}{n} \\sum_{i=1}^{n}\n",
        "\\Big[\\, y_i \\log(\\hat{p}_i) + (1 - y_i) \\log(1 - \\hat{p}_i) \\,\\Big]\n",
        "$$\n",
        "\n",
        "where\n",
        "\n",
        "$$\n",
        "\\hat{p}_i = \\sigma(w^\\top x_i + b) = \\frac{1}{1 + e^{-(w^\\top x_i + b)}}\n",
        "$$\n",
        "\n",
        "---\n",
        "\n",
        "### Alternative (Numerically Stable) Form Using Softplus\n",
        "\n",
        "To avoid overflow from \\( e^{-z} \\), we can rewrite it as:\n",
        "\n",
        "$$\n",
        "J(w, b) = \\frac{1}{n} \\sum_{i=1}^{n}\n",
        "\\Big[\\, \\log(1 + e^{z_i}) - y_i z_i \\,\\Big]\n",
        "$$\n"
      ],
      "metadata": {
        "id": "HLJNxhE5k-ib"
      }
    },
    {
      "cell_type": "code",
      "source": [
        "def softplus(z):\n",
        "  z = np.asarray(z, dtype=float)\n",
        "  return np.maximum(0.0,z)+np.log1p(np.exp(-np.abs(z)))"
      ],
      "metadata": {
        "id": "JcqlQPh3kyhT"
      },
      "execution_count": 36,
      "outputs": []
    },
    {
      "cell_type": "markdown",
      "source": [
        "## Compute mean binary cross-entropy loss and its gradients."
      ],
      "metadata": {
        "id": "Angi5rfqmQ-v"
      }
    },
    {
      "cell_type": "code",
      "source": [
        "def bce_loss_and_grad(w, b, X, y, l2=0.0):\n",
        "    \"\"\"\n",
        "    Mean binary cross-entropy (log loss) and gradients for logistic regression.\n",
        "    Stable loss: J = mean(softplus(z) - y*z), where z = Xw + b.\n",
        "    \"\"\"\n",
        "    z = logits(X, w, b)\n",
        "    p = sigmoid_stable(z)\n",
        "    n = len(X)\n",
        "\n",
        "    # loss\n",
        "    loss = np.mean(softplus(z) - y * z)\n",
        "    if l2 > 0.0:\n",
        "        loss += (l2 / (2.0 * n)) * np.dot(w, w)\n",
        "\n",
        "    # gradients (THIS is the key line)\n",
        "    err = (p - y) / n\n",
        "    grad_w = X.T @ err\n",
        "    grad_b = np.sum(err)\n",
        "\n",
        "    if l2 > 0.0:\n",
        "        grad_w += (l2 / n) * w\n",
        "\n",
        "    return loss, grad_w, grad_b\n",
        "\n",
        "\n",
        "\n"
      ],
      "metadata": {
        "id": "F6VPPsoTmKZR"
      },
      "execution_count": 37,
      "outputs": []
    },
    {
      "cell_type": "code",
      "source": [
        "def fit_logreg_gd(X, y, lr=0.01, epochs=200, l2=0.0, w0=None, b0=0.0, verbose=True):\n",
        "    \"\"\"\n",
        "    Simple full-batch gradient descent (no validation), with:\n",
        "      - gradient clipping\n",
        "      - step shrink if loss increases\n",
        "    \"\"\"\n",
        "    n, d = X.shape\n",
        "    w = np.zeros(d, dtype=float) if w0 is None else np.asarray(w0, float).copy()\n",
        "    b = float(b0)\n",
        "\n",
        "    history = {\"train_loss\": []}\n",
        "    prev_loss = float(\"inf\")\n",
        "\n",
        "    for epoch in range(epochs):\n",
        "        loss, gw, gb = bce_loss_and_grad(w, b, X, y, l2=l2)\n",
        "\n",
        "        # gradient clipping\n",
        "        gnorm = float(np.sqrt(np.sum(gw*gw) + gb*gb))\n",
        "        if gnorm > 10.0:\n",
        "            scale = 10.0 / (gnorm + 1e-12)\n",
        "            gw *= scale; gb *= scale\n",
        "\n",
        "        # backoff step if loss increased\n",
        "        step = lr\n",
        "        if np.isfinite(prev_loss) and loss > prev_loss:\n",
        "            step *= 0.5\n",
        "\n",
        "        # DESCENT step (uses TRUE gradient)\n",
        "        w -= step * gw\n",
        "        b -= step * gb\n",
        "        prev_loss = loss\n",
        "\n",
        "        history[\"train_loss\"].append(loss)\n",
        "        if verbose and (epoch < 3 or (epoch + 1) % max(1, epochs // 10) == 0):\n",
        "            print(f\"epoch {epoch+1:4d} | loss={loss:.6f} | step={step:.5g} | ||g||={gnorm:.4f}\")\n",
        "\n",
        "    return w, b, history\n",
        "\n"
      ],
      "metadata": {
        "id": "WBWTzT3XuVvL"
      },
      "execution_count": 38,
      "outputs": []
    },
    {
      "cell_type": "markdown",
      "source": [
        "## Fit and Test The Model"
      ],
      "metadata": {
        "id": "pqZK8i8d4y7z"
      }
    },
    {
      "cell_type": "code",
      "source": [
        "w_learned, b_learned, hist = fit_logreg_gd(\n",
        "    X_train, y_train,\n",
        "    lr=0.01,\n",
        "    epochs=500,\n",
        "    l2=0.0,\n",
        "    verbose=True\n",
        ")\n"
      ],
      "metadata": {
        "colab": {
          "base_uri": "https://localhost:8080/"
        },
        "id": "xMpPKFFMw-K3",
        "outputId": "341ac747-3727-444b-c9a4-8d33b42efaad"
      },
      "execution_count": 44,
      "outputs": [
        {
          "output_type": "stream",
          "name": "stdout",
          "text": [
            "epoch    1 | loss=0.693147 | step=0.01 | ||g||=0.3085\n",
            "epoch    2 | loss=0.692197 | step=0.01 | ||g||=0.3077\n",
            "epoch    3 | loss=0.691251 | step=0.01 | ||g||=0.3069\n",
            "epoch   50 | loss=0.652065 | step=0.01 | ||g||=0.2707\n",
            "epoch  100 | loss=0.619762 | step=0.01 | ||g||=0.2379\n",
            "epoch  150 | loss=0.594664 | step=0.01 | ||g||=0.2104\n",
            "epoch  200 | loss=0.574890 | step=0.01 | ||g||=0.1875\n",
            "epoch  250 | loss=0.559080 | step=0.01 | ||g||=0.1683\n",
            "epoch  300 | loss=0.546263 | step=0.01 | ||g||=0.1521\n",
            "epoch  350 | loss=0.535738 | step=0.01 | ||g||=0.1382\n",
            "epoch  400 | loss=0.526996 | step=0.01 | ||g||=0.1263\n",
            "epoch  450 | loss=0.519661 | step=0.01 | ||g||=0.1160\n",
            "epoch  500 | loss=0.513449 | step=0.01 | ||g||=0.1070\n"
          ]
        }
      ]
    },
    {
      "cell_type": "markdown",
      "source": [
        "## Helpers To See"
      ],
      "metadata": {
        "id": "Lz5SzJal4wCD"
      }
    },
    {
      "cell_type": "code",
      "source": [
        "def predict_proba(X, w, b):\n",
        "    \"\"\"Return P(y=1|x) for each row in X.\"\"\"\n",
        "    return sigmoid_stable(logits(X, w, b))\n",
        "\n",
        "def predict(X, w, b, threshold=0.5):\n",
        "    \"\"\"Return class labels {0,1} using a threshold on probability.\"\"\"\n",
        "    return (predict_proba(X, w, b) >= threshold).astype(int)\n",
        "\n",
        "def accuracy(X, y, w, b, threshold=0.5):\n",
        "    \"\"\"Simple accuracy metric.\"\"\"\n",
        "    y_hat = predict(X, w, b, threshold)\n",
        "    return (y_hat == y).mean()\n"
      ],
      "metadata": {
        "id": "8fzf-A4Rw_5m"
      },
      "execution_count": 45,
      "outputs": []
    },
    {
      "cell_type": "markdown",
      "source": [
        "## Train Accuracy"
      ],
      "metadata": {
        "id": "i1wPTn9b4szL"
      }
    },
    {
      "cell_type": "code",
      "source": [
        "w_learned, b_learned, hist = fit_logreg_gd(X_train, y_train, lr=0.01, epochs=300, l2=0.0, verbose=True)\n",
        "print(\"final train loss:\", hist[\"train_loss\"][-1])\n",
        "print(\"train accuracy:\", accuracy(X_train, y_train, w_learned, b_learned))"
      ],
      "metadata": {
        "colab": {
          "base_uri": "https://localhost:8080/"
        },
        "id": "XKH9lLM3ya6v",
        "outputId": "a684b353-7421-4b86-9673-8861daa38ff3"
      },
      "execution_count": 46,
      "outputs": [
        {
          "output_type": "stream",
          "name": "stdout",
          "text": [
            "epoch    1 | loss=0.693147 | step=0.01 | ||g||=0.3085\n",
            "epoch    2 | loss=0.692197 | step=0.01 | ||g||=0.3077\n",
            "epoch    3 | loss=0.691251 | step=0.01 | ||g||=0.3069\n",
            "epoch   30 | loss=0.667547 | step=0.01 | ||g||=0.2855\n",
            "epoch   60 | loss=0.644916 | step=0.01 | ||g||=0.2637\n",
            "epoch   90 | loss=0.625575 | step=0.01 | ||g||=0.2440\n",
            "epoch  120 | loss=0.608977 | step=0.01 | ||g||=0.2263\n",
            "epoch  150 | loss=0.594664 | step=0.01 | ||g||=0.2104\n",
            "epoch  180 | loss=0.582258 | step=0.01 | ||g||=0.1962\n",
            "epoch  210 | loss=0.571446 | step=0.01 | ||g||=0.1834\n",
            "epoch  240 | loss=0.561976 | step=0.01 | ||g||=0.1719\n",
            "epoch  270 | loss=0.553639 | step=0.01 | ||g||=0.1615\n",
            "epoch  300 | loss=0.546263 | step=0.01 | ||g||=0.1521\n",
            "final train loss: 0.5462631035928165\n",
            "train accuracy: 0.78625\n"
          ]
        }
      ]
    },
    {
      "cell_type": "markdown",
      "source": [
        "## Confusion matrix"
      ],
      "metadata": {
        "id": "pIwxpmHZ5FvU"
      }
    },
    {
      "cell_type": "code",
      "source": [
        "import numpy as np\n",
        "from sklearn.metrics import confusion_matrix, precision_recall_fscore_support, roc_auc_score\n",
        "\n",
        "# 1) Probabilities and default 0.5 threshold\n",
        "proba = predict_proba(X_train, w_learned, b_learned)\n",
        "y_hat = (proba >= 0.5).astype(int)\n",
        "\n",
        "cm = confusion_matrix(y_train, y_hat)\n",
        "prec, rec, f1, _ = precision_recall_fscore_support(y_train, y_hat, average='binary')\n",
        "auc = roc_auc_score(y_train, proba)\n",
        "\n",
        "print(\"Confusion matrix:\\n\", cm)\n",
        "print(f\"Precision: {prec:.3f} | Recall: {rec:.3f} | F1: {f1:.3f} | ROC-AUC: {auc:.3f}\")"
      ],
      "metadata": {
        "colab": {
          "base_uri": "https://localhost:8080/"
        },
        "id": "asCks-JKzahM",
        "outputId": "4e67c652-19ec-499c-bdd1-aa46f86b637e"
      },
      "execution_count": 47,
      "outputs": [
        {
          "output_type": "stream",
          "name": "stdout",
          "text": [
            "Confusion matrix:\n",
            " [[272  92]\n",
            " [ 79 357]]\n",
            "Precision: 0.795 | Recall: 0.819 | F1: 0.807 | ROC-AUC: 0.858\n"
          ]
        }
      ]
    },
    {
      "cell_type": "markdown",
      "source": [
        "you can add next\n",
        "\n",
        " 1 decision boundary (2D),\n",
        "\n",
        "2 mini-batch SGD (faster),\n",
        "\n",
        "3 L2 regularization,"
      ],
      "metadata": {
        "id": "msMdC7l45Kn7"
      }
    }
  ]
}